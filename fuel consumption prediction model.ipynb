{
 "cells": [
  {
   "cell_type": "code",
   "execution_count": 1,
   "metadata": {},
   "outputs": [
    {
     "data": {
      "text/html": [
       "<div>\n",
       "<style scoped>\n",
       "    .dataframe tbody tr th:only-of-type {\n",
       "        vertical-align: middle;\n",
       "    }\n",
       "\n",
       "    .dataframe tbody tr th {\n",
       "        vertical-align: top;\n",
       "    }\n",
       "\n",
       "    .dataframe thead th {\n",
       "        text-align: right;\n",
       "    }\n",
       "</style>\n",
       "<table border=\"1\" class=\"dataframe\">\n",
       "  <thead>\n",
       "    <tr style=\"text-align: right;\">\n",
       "      <th></th>\n",
       "      <th>ship_id</th>\n",
       "      <th>ship_type</th>\n",
       "      <th>route_id</th>\n",
       "      <th>month</th>\n",
       "      <th>distance</th>\n",
       "      <th>fuel_type</th>\n",
       "      <th>fuel_consumption</th>\n",
       "      <th>CO2_emissions</th>\n",
       "      <th>weather_conditions</th>\n",
       "      <th>engine_efficiency</th>\n",
       "    </tr>\n",
       "  </thead>\n",
       "  <tbody>\n",
       "    <tr>\n",
       "      <th>0</th>\n",
       "      <td>NG001</td>\n",
       "      <td>Oil Service Boat</td>\n",
       "      <td>Warri-Bonny</td>\n",
       "      <td>January</td>\n",
       "      <td>132.26</td>\n",
       "      <td>HFO</td>\n",
       "      <td>3779.77</td>\n",
       "      <td>10625.76</td>\n",
       "      <td>Stormy</td>\n",
       "      <td>92.14</td>\n",
       "    </tr>\n",
       "    <tr>\n",
       "      <th>1</th>\n",
       "      <td>NG001</td>\n",
       "      <td>Oil Service Boat</td>\n",
       "      <td>Port Harcourt-Lagos</td>\n",
       "      <td>February</td>\n",
       "      <td>128.52</td>\n",
       "      <td>HFO</td>\n",
       "      <td>4461.44</td>\n",
       "      <td>12779.73</td>\n",
       "      <td>Moderate</td>\n",
       "      <td>92.98</td>\n",
       "    </tr>\n",
       "    <tr>\n",
       "      <th>2</th>\n",
       "      <td>NG001</td>\n",
       "      <td>Oil Service Boat</td>\n",
       "      <td>Port Harcourt-Lagos</td>\n",
       "      <td>March</td>\n",
       "      <td>67.30</td>\n",
       "      <td>HFO</td>\n",
       "      <td>1867.73</td>\n",
       "      <td>5353.01</td>\n",
       "      <td>Calm</td>\n",
       "      <td>87.61</td>\n",
       "    </tr>\n",
       "    <tr>\n",
       "      <th>3</th>\n",
       "      <td>NG001</td>\n",
       "      <td>Oil Service Boat</td>\n",
       "      <td>Port Harcourt-Lagos</td>\n",
       "      <td>April</td>\n",
       "      <td>71.68</td>\n",
       "      <td>Diesel</td>\n",
       "      <td>2393.51</td>\n",
       "      <td>6506.52</td>\n",
       "      <td>Stormy</td>\n",
       "      <td>87.42</td>\n",
       "    </tr>\n",
       "    <tr>\n",
       "      <th>4</th>\n",
       "      <td>NG001</td>\n",
       "      <td>Oil Service Boat</td>\n",
       "      <td>Lagos-Apapa</td>\n",
       "      <td>May</td>\n",
       "      <td>134.32</td>\n",
       "      <td>HFO</td>\n",
       "      <td>4267.19</td>\n",
       "      <td>11617.03</td>\n",
       "      <td>Calm</td>\n",
       "      <td>85.61</td>\n",
       "    </tr>\n",
       "  </tbody>\n",
       "</table>\n",
       "</div>"
      ],
      "text/plain": [
       "  ship_id         ship_type             route_id     month  distance  \\\n",
       "0   NG001  Oil Service Boat          Warri-Bonny   January    132.26   \n",
       "1   NG001  Oil Service Boat  Port Harcourt-Lagos  February    128.52   \n",
       "2   NG001  Oil Service Boat  Port Harcourt-Lagos     March     67.30   \n",
       "3   NG001  Oil Service Boat  Port Harcourt-Lagos     April     71.68   \n",
       "4   NG001  Oil Service Boat          Lagos-Apapa       May    134.32   \n",
       "\n",
       "  fuel_type  fuel_consumption  CO2_emissions weather_conditions  \\\n",
       "0       HFO           3779.77       10625.76             Stormy   \n",
       "1       HFO           4461.44       12779.73           Moderate   \n",
       "2       HFO           1867.73        5353.01               Calm   \n",
       "3    Diesel           2393.51        6506.52             Stormy   \n",
       "4       HFO           4267.19       11617.03               Calm   \n",
       "\n",
       "   engine_efficiency  \n",
       "0              92.14  \n",
       "1              92.98  \n",
       "2              87.61  \n",
       "3              87.42  \n",
       "4              85.61  "
      ]
     },
     "execution_count": 1,
     "metadata": {},
     "output_type": "execute_result"
    }
   ],
   "source": [
    "import pandas as pd\n",
    "import numpy as np\n",
    "import matplotlib.pyplot as plt\n",
    "import seaborn as sns\n",
    "import warnings\n",
    "warnings.filterwarnings('ignore')\n",
    "\n",
    "df = pd.read_csv('ship_fuel_efficiency.csv')\n",
    "df.head()"
   ]
  },
  {
   "cell_type": "code",
   "execution_count": 2,
   "metadata": {},
   "outputs": [],
   "source": [
    "# Encoding categorical variables using Label Encoder\n",
    "from sklearn.preprocessing import LabelEncoder\n",
    "le = LabelEncoder()\n",
    "df['ship_type'] = le.fit_transform(df['ship_type'])\n",
    "df['route_id'] = le.fit_transform(df['route_id'])\n",
    "df['month'] = le.fit_transform(df['month'])\n",
    "df['fuel_type'] = le.fit_transform(df['fuel_type'])\n",
    "df['weather_conditions'] = le.fit_transform(df['weather_conditions'])"
   ]
  },
  {
   "cell_type": "code",
   "execution_count": 3,
   "metadata": {},
   "outputs": [
    {
     "data": {
      "text/html": [
       "<div>\n",
       "<style scoped>\n",
       "    .dataframe tbody tr th:only-of-type {\n",
       "        vertical-align: middle;\n",
       "    }\n",
       "\n",
       "    .dataframe tbody tr th {\n",
       "        vertical-align: top;\n",
       "    }\n",
       "\n",
       "    .dataframe thead th {\n",
       "        text-align: right;\n",
       "    }\n",
       "</style>\n",
       "<table border=\"1\" class=\"dataframe\">\n",
       "  <thead>\n",
       "    <tr style=\"text-align: right;\">\n",
       "      <th></th>\n",
       "      <th>ship_id</th>\n",
       "      <th>ship_type</th>\n",
       "      <th>route_id</th>\n",
       "      <th>month</th>\n",
       "      <th>distance</th>\n",
       "      <th>fuel_type</th>\n",
       "      <th>fuel_consumption</th>\n",
       "      <th>CO2_emissions</th>\n",
       "      <th>weather_conditions</th>\n",
       "      <th>engine_efficiency</th>\n",
       "    </tr>\n",
       "  </thead>\n",
       "  <tbody>\n",
       "    <tr>\n",
       "      <th>0</th>\n",
       "      <td>NG001</td>\n",
       "      <td>1</td>\n",
       "      <td>3</td>\n",
       "      <td>4</td>\n",
       "      <td>132.26</td>\n",
       "      <td>1</td>\n",
       "      <td>3779.77</td>\n",
       "      <td>10625.76</td>\n",
       "      <td>2</td>\n",
       "      <td>92.14</td>\n",
       "    </tr>\n",
       "    <tr>\n",
       "      <th>1</th>\n",
       "      <td>NG001</td>\n",
       "      <td>1</td>\n",
       "      <td>2</td>\n",
       "      <td>3</td>\n",
       "      <td>128.52</td>\n",
       "      <td>1</td>\n",
       "      <td>4461.44</td>\n",
       "      <td>12779.73</td>\n",
       "      <td>1</td>\n",
       "      <td>92.98</td>\n",
       "    </tr>\n",
       "    <tr>\n",
       "      <th>2</th>\n",
       "      <td>NG001</td>\n",
       "      <td>1</td>\n",
       "      <td>2</td>\n",
       "      <td>7</td>\n",
       "      <td>67.30</td>\n",
       "      <td>1</td>\n",
       "      <td>1867.73</td>\n",
       "      <td>5353.01</td>\n",
       "      <td>0</td>\n",
       "      <td>87.61</td>\n",
       "    </tr>\n",
       "    <tr>\n",
       "      <th>3</th>\n",
       "      <td>NG001</td>\n",
       "      <td>1</td>\n",
       "      <td>2</td>\n",
       "      <td>0</td>\n",
       "      <td>71.68</td>\n",
       "      <td>0</td>\n",
       "      <td>2393.51</td>\n",
       "      <td>6506.52</td>\n",
       "      <td>2</td>\n",
       "      <td>87.42</td>\n",
       "    </tr>\n",
       "    <tr>\n",
       "      <th>4</th>\n",
       "      <td>NG001</td>\n",
       "      <td>1</td>\n",
       "      <td>1</td>\n",
       "      <td>8</td>\n",
       "      <td>134.32</td>\n",
       "      <td>1</td>\n",
       "      <td>4267.19</td>\n",
       "      <td>11617.03</td>\n",
       "      <td>0</td>\n",
       "      <td>85.61</td>\n",
       "    </tr>\n",
       "  </tbody>\n",
       "</table>\n",
       "</div>"
      ],
      "text/plain": [
       "  ship_id  ship_type  route_id  month  distance  fuel_type  fuel_consumption  \\\n",
       "0   NG001          1         3      4    132.26          1           3779.77   \n",
       "1   NG001          1         2      3    128.52          1           4461.44   \n",
       "2   NG001          1         2      7     67.30          1           1867.73   \n",
       "3   NG001          1         2      0     71.68          0           2393.51   \n",
       "4   NG001          1         1      8    134.32          1           4267.19   \n",
       "\n",
       "   CO2_emissions  weather_conditions  engine_efficiency  \n",
       "0       10625.76                   2              92.14  \n",
       "1       12779.73                   1              92.98  \n",
       "2        5353.01                   0              87.61  \n",
       "3        6506.52                   2              87.42  \n",
       "4       11617.03                   0              85.61  "
      ]
     },
     "execution_count": 3,
     "metadata": {},
     "output_type": "execute_result"
    }
   ],
   "source": [
    "df.head()"
   ]
  },
  {
   "cell_type": "code",
   "execution_count": 4,
   "metadata": {},
   "outputs": [
    {
     "data": {
      "image/png": "[encoded data removed]",
      "text/plain": [
       "<Figure size 1000x800 with 2 Axes>"
      ]
     },
     "metadata": {},
     "output_type": "display_data"
    }
   ],
   "source": [
    "df = df.drop(columns=['ship_id'])\n",
    "\n",
    "# Select relevant columns for the correlation matrix\n",
    "cols = ['ship_type', 'route_id', 'month', 'distance', 'fuel_type', 'fuel_consumption', 'CO2_emissions', 'weather_conditions', 'engine_efficiency']\n",
    "correlation_matrix = df[cols].apply(pd.to_numeric, errors='coerce').corr()\n",
    "\n",
    "# Plot the correlation matrix\n",
    "plt.figure(figsize=(10, 8))\n",
    "sns.heatmap(correlation_matrix, annot=True, cmap='coolwarm', linewidths=0.5)\n",
    "plt.title('Correlation Matrix of Ship Features')\n",
    "plt.show()"
   ]
  },
  {
   "cell_type": "code",
   "execution_count": 5,
   "metadata": {},
   "outputs": [],
   "source": [
    "# feature seperation\n",
    "x = df[['ship_type', 'route_id', 'month', 'distance', 'fuel_type', 'weather_conditions', 'engine_efficiency']]\n",
    "y = df['fuel_consumption']\n",
    "\n",
    "# Splitting the dataset into the Training set and Test set\n",
    "from sklearn.model_selection import train_test_split\n",
    "x_train, x_test, y_train, y_test = train_test_split(x, y, test_size = 0.2, random_state = 0)\n",
    "\n",
    "# Feature Scaling\n",
    "from sklearn.preprocessing import StandardScaler\n",
    "sc = StandardScaler()\n",
    "x_train = sc.fit_transform(x_train)\n",
    "x_test = sc.transform(x_test)\n",
    "\n",
    "# Applying PCA\n",
    "from sklearn.decomposition import PCA\n",
    "pca = PCA(n_components = 2)\n",
    "x_train = pca.fit_transform(x_train)\n",
    "x_test = pca.transform(x_test)"
   ]
  },
  {
   "cell_type": "code",
   "execution_count": 6,
   "metadata": {},
   "outputs": [
    {
     "name": "stdout",
     "output_type": "stream",
     "text": [
      "Linear Regression MSE: 5251487.89081619\n",
      "Linear Regression R2 Score: 0.7760011902635345\n"
     ]
    }
   ],
   "source": [
    "# Train Linear Regression model\n",
    "from sklearn.linear_model import LinearRegression\n",
    "lr_model = LinearRegression()\n",
    "lr_model.fit(x_train, y_train)\n",
    "y_pred_lr = lr_model.predict(x_test)\n",
    "\n",
    "# model evaluation\n",
    "from sklearn.metrics import mean_squared_error, r2_score\n",
    "mse_lr = mean_squared_error(y_test, y_pred_lr)\n",
    "r2_lr = r2_score(y_test, y_pred_lr)\n",
    "print(\"Linear Regression MSE:\", mse_lr)\n",
    "print(\"Linear Regression R2 Score:\", r2_lr)\n"
   ]
  },
  {
   "cell_type": "code",
   "execution_count": 7,
   "metadata": {},
   "outputs": [
    {
     "name": "stdout",
     "output_type": "stream",
     "text": [
      "Random Forest MSE: 2029863.62621265\n",
      "Random Forest R2 Score: 0.9134174836441808\n"
     ]
    }
   ],
   "source": [
    "# Random forest regressor\n",
    "from sklearn.ensemble import RandomForestRegressor\n",
    "rf_model = RandomForestRegressor(n_estimators = 100, random_state = 0)\n",
    "rf_model.fit(x_train, y_train)\n",
    "y_pred_rf = rf_model.predict(x_test)\n",
    "\n",
    "# model evaluation\n",
    "mse_rf = mean_squared_error(y_test, y_pred_rf)\n",
    "r2_rf = r2_score(y_test, y_pred_rf)\n",
    "print(\"Random Forest MSE:\", mse_rf)\n",
    "print(\"Random Forest R2 Score:\", r2_rf)"
   ]
  },
  {
   "cell_type": "code",
   "execution_count": 8,
   "metadata": {},
   "outputs": [
    {
     "name": "stdout",
     "output_type": "stream",
     "text": [
      "Gradient Boosting MSE: 1934308.049054753\n",
      "Gradient Boosting R2 Score: 0.9174933448081153\n"
     ]
    }
   ],
   "source": [
    "# gradient boosting regressor\n",
    "from sklearn.ensemble import GradientBoostingRegressor\n",
    "gb_model = GradientBoostingRegressor(n_estimators = 100, learning_rate = 0.1, max_depth = 1, random_state = 0)\n",
    "gb_model.fit(x_train, y_train)\n",
    "y_pred_gb = gb_model.predict(x_test)\n",
    "\n",
    "# model evaluation\n",
    "mse_gb = mean_squared_error(y_test, y_pred_gb)\n",
    "r2_gb = r2_score(y_test, y_pred_gb)\n",
    "print(\"Gradient Boosting MSE:\", mse_gb)\n",
    "print(\"Gradient Boosting R2 Score:\", r2_gb)"
   ]
  },
  {
   "cell_type": "code",
   "execution_count": 9,
   "metadata": {},
   "outputs": [
    {
     "name": "stdout",
     "output_type": "stream",
     "text": [
      "XGBoost MSE: 1919334.2520763555\n",
      "XGBoost R2 Score: 0.9181320424058499\n"
     ]
    }
   ],
   "source": [
    "# XGBoost Model\n",
    "from xgboost import XGBRegressor\n",
    "xgb_model = XGBRegressor(n_estimators = 100, learning_rate = 0.1, max_depth = 1, random_state = 0)\n",
    "xgb_model.fit(x_train, y_train)\n",
    "y_pred_xgb = xgb_model.predict(x_test)\n",
    "\n",
    "# model evaluation\n",
    "mse_xgb = mean_squared_error(y_test, y_pred_xgb)\n",
    "r2_xgb = r2_score(y_test, y_pred_xgb)\n",
    "print(\"XGBoost MSE:\", mse_xgb)\n",
    "print(\"XGBoost R2 Score:\", r2_xgb)"
   ]
  },
  {
   "cell_type": "code",
   "execution_count": 10,
   "metadata": {},
   "outputs": [
    {
     "name": "stdout",
     "output_type": "stream",
     "text": [
      "LightGBM MSE: 1891081.426674354\n",
      "LightGBM R2 Score: 0.9193371483478836\n"
     ]
    }
   ],
   "source": [
    "# LightGBM Model\n",
    "from lightgbm import LGBMRegressor\n",
    "\n",
    "lgbm_model = LGBMRegressor(n_estimators=100, learning_rate=0.1, max_depth=1, random_state=0, verbosity=-1)\n",
    "lgbm_model.fit(x_train, y_train)\n",
    "y_pred_lgbm = lgbm_model.predict(x_test)\n",
    "\n",
    "# model evaluation\n",
    "mse_lgbm = mean_squared_error(y_test, y_pred_lgbm)\n",
    "r2_lgbm = r2_score(y_test, y_pred_lgbm)\n",
    "print(\"LightGBM MSE:\", mse_lgbm)\n",
    "print(\"LightGBM R2 Score:\", r2_lgbm)\n"
   ]
  },
  {
   "cell_type": "code",
   "execution_count": 11,
   "metadata": {},
   "outputs": [
    {
     "data": {
      "text/html": [
       "<div>\n",
       "<style scoped>\n",
       "    .dataframe tbody tr th:only-of-type {\n",
       "        vertical-align: middle;\n",
       "    }\n",
       "\n",
       "    .dataframe tbody tr th {\n",
       "        vertical-align: top;\n",
       "    }\n",
       "\n",
       "    .dataframe thead th {\n",
       "        text-align: right;\n",
       "    }\n",
       "</style>\n",
       "<table border=\"1\" class=\"dataframe\">\n",
       "  <thead>\n",
       "    <tr style=\"text-align: right;\">\n",
       "      <th></th>\n",
       "      <th>Model</th>\n",
       "      <th>MSE</th>\n",
       "      <th>R2 Score</th>\n",
       "    </tr>\n",
       "  </thead>\n",
       "  <tbody>\n",
       "    <tr>\n",
       "      <th>0</th>\n",
       "      <td>Linear Regression</td>\n",
       "      <td>5.251488e+06</td>\n",
       "      <td>0.776001</td>\n",
       "    </tr>\n",
       "    <tr>\n",
       "      <th>1</th>\n",
       "      <td>Random Forest</td>\n",
       "      <td>2.029864e+06</td>\n",
       "      <td>0.913417</td>\n",
       "    </tr>\n",
       "    <tr>\n",
       "      <th>2</th>\n",
       "      <td>Gradient Boosting</td>\n",
       "      <td>1.934308e+06</td>\n",
       "      <td>0.917493</td>\n",
       "    </tr>\n",
       "    <tr>\n",
       "      <th>3</th>\n",
       "      <td>XGBoost</td>\n",
       "      <td>1.919334e+06</td>\n",
       "      <td>0.918132</td>\n",
       "    </tr>\n",
       "    <tr>\n",
       "      <th>4</th>\n",
       "      <td>LightGBM</td>\n",
       "      <td>1.891081e+06</td>\n",
       "      <td>0.919337</td>\n",
       "    </tr>\n",
       "  </tbody>\n",
       "</table>\n",
       "</div>"
      ],
      "text/plain": [
       "               Model           MSE  R2 Score\n",
       "0  Linear Regression  5.251488e+06  0.776001\n",
       "1      Random Forest  2.029864e+06  0.913417\n",
       "2  Gradient Boosting  1.934308e+06  0.917493\n",
       "3            XGBoost  1.919334e+06  0.918132\n",
       "4           LightGBM  1.891081e+06  0.919337"
      ]
     },
     "execution_count": 11,
     "metadata": {},
     "output_type": "execute_result"
    }
   ],
   "source": [
    "# Create a dictionary with the results\n",
    "results = {\n",
    "    \"Model\": [\"Linear Regression\", \"Random Forest\", \"Gradient Boosting\", \"XGBoost\", \"LightGBM\"],\n",
    "    \"MSE\": [5251487.89081619, 2029863.62621265, 1934308.049054753, 1919334.2520763555, 1891081.426674354],\n",
    "    \"R2 Score\": [0.7760011902635345, 0.9134174836441808, 0.9174933448081153, 0.9181320424058499, 0.9193371483478836]\n",
    "}\n",
    "\n",
    "# Create a DataFrame\n",
    "df_results = pd.DataFrame(results)\n",
    "\n",
    "# Print the DataFrame\n",
    "df_results"
   ]
  },
  {
   "cell_type": "code",
   "execution_count": 12,
   "metadata": {},
   "outputs": [
    {
     "name": "stdout",
     "output_type": "stream",
     "text": [
      "Cross-validation scores for LightGBM:  [0.92797116 0.9099826  0.91658903 0.91434559 0.90798962]\n",
      "Mean cross-validation score for LightGBM:  0.9153755980506613\n"
     ]
    }
   ],
   "source": [
    "# Cross validation for LightGBM\n",
    "from sklearn.model_selection import cross_val_score\n",
    "scores = cross_val_score(lgbm_model, x_train, y_train, cv=5)\n",
    "print(\"Cross-validation scores for LightGBM: \", scores)\n",
    "print(\"Mean cross-validation score for LightGBM: \", scores.mean())\n",
    "\n"
   ]
  },
  {
   "cell_type": "code",
   "execution_count": 13,
   "metadata": {},
   "outputs": [
    {
     "name": "stdout",
     "output_type": "stream",
     "text": [
      "Cross-validation scores for XGBoost:  [0.92395416 0.91088223 0.91749968 0.91199113 0.90498487]\n",
      "Mean cross-validation score for XGBoost:  0.9138624125884796\n"
     ]
    }
   ],
   "source": [
    "# Cross validation for XGBoost\n",
    "scores = cross_val_score(xgb_model, x_train, y_train, cv=5)\n",
    "print(\"Cross-validation scores for XGBoost: \", scores)\n",
    "print(\"Mean cross-validation score for XGBoost: \", scores.mean())"
   ]
  },
  {
   "cell_type": "code",
   "execution_count": 14,
   "metadata": {},
   "outputs": [
    {
     "name": "stdout",
     "output_type": "stream",
     "text": [
      "Cross-validation scores for Gradient Boosting:  [0.92548767 0.91041486 0.91524454 0.90706525 0.90740395]\n",
      "Mean cross-validation score for Gradient Boosting:  0.9131232548924721\n"
     ]
    }
   ],
   "source": [
    "# Cross validation for Gradient Boosting\n",
    "scores = cross_val_score(gb_model, x_train, y_train, cv=5)\n",
    "print(\"Cross-validation scores for Gradient Boosting: \", scores)\n",
    "print(\"Mean cross-validation score for Gradient Boosting: \", scores.mean())\n"
   ]
  },
  {
   "cell_type": "code",
   "execution_count": 18,
   "metadata": {},
   "outputs": [
    {
     "name": "stdout",
     "output_type": "stream",
     "text": [
      "Best Parameters: {'subsample': 0.5, 'n_estimators': 200, 'min_samples_split': 5, 'min_samples_leaf': 2, 'max_features': 'log2', 'max_depth': 2, 'learning_rate': 0.05}\n",
      "Tuned Gradient Boosting MSE: 1870555.5339395197\n",
      "Tuned Gradient Boosting R2 Score: 0.9202126669888808\n"
     ]
    }
   ],
   "source": [
    "from sklearn.model_selection import RandomizedSearchCV\n",
    "\n",
    "# Define parameter grid\n",
    "param_dist = {\n",
    "    'n_estimators': [50, 100, 200, 300],\n",
    "    'learning_rate': [0.01, 0.05, 0.1, 0.2],\n",
    "    'max_depth': [1, 2, 3, 4, 5],\n",
    "    'min_samples_split': [2, 5, 10, 20],\n",
    "    'min_samples_leaf': [1, 2, 5, 10],\n",
    "    'subsample': [0.5, 0.7, 0.9, 1.0],\n",
    "    'max_features': ['auto', 'sqrt', 'log2', None]\n",
    "}\n",
    "\n",
    "# Instantiate the Gradient Boosting Regressor\n",
    "gb_model = GradientBoostingRegressor(random_state=0)\n",
    "\n",
    "# RandomizedSearchCV\n",
    "random_search = RandomizedSearchCV(\n",
    "    estimator=gb_model,\n",
    "    param_distributions=param_dist,\n",
    "    n_iter=50,  # Number of parameter settings to sample\n",
    "    scoring='neg_mean_squared_error',\n",
    "    cv=5,  # 5-fold cross-validation\n",
    "    random_state=0,\n",
    "    n_jobs=-1  # Use all available processors\n",
    ")\n",
    "\n",
    "# Fit RandomizedSearchCV\n",
    "random_search.fit(x_train, y_train)\n",
    "\n",
    "# Best parameters\n",
    "print(\"Best Parameters:\", random_search.best_params_)\n",
    "\n",
    "# Use the best estimator to make predictions\n",
    "best_gb_model = random_search.best_estimator_\n",
    "y_pred_gb = best_gb_model.predict(x_test)\n",
    "\n",
    "# Model evaluation\n",
    "mse_gb = mean_squared_error(y_test, y_pred_gb)\n",
    "r2_gb = r2_score(y_test, y_pred_gb)\n",
    "print(\"Tuned Gradient Boosting MSE:\", mse_gb)\n",
    "print(\"Tuned Gradient Boosting R2 Score:\", r2_gb)"
   ]
  },
  {
   "cell_type": "code",
   "execution_count": 19,
   "metadata": {},
   "outputs": [
    {
     "name": "stdout",
     "output_type": "stream",
     "text": [
      "✅ Gradient Boosting model, StandardScaler, and PCA saved successfully!\n"
     ]
    }
   ],
   "source": [
    "import joblib\n",
    "\n",
    "# Save the Gradient Boosting model, StandardScaler, and PCA\n",
    "joblib.dump(best_gb_model, 'model_fuel.joblib') \n",
    "joblib.dump(sc, 'scaler_fuel.joblib')  \n",
    "joblib.dump(pca, 'pca_fuel.joblib')  \n",
    "\n",
    "print(\"✅ Gradient Boosting model, StandardScaler, and PCA saved successfully!\")"
   ]
  },
  {
   "cell_type": "code",
   "execution_count": null,
   "metadata": {},
   "outputs": [],
   "source": []
  }
 ],
 "metadata": {
  "kernelspec": {
   "display_name": "Python 3",
   "language": "python",
   "name": "python3"
  },
  "language_info": {
   "codemirror_mode": {
    "name": "ipython",
    "version": 3
   },
   "file_extension": ".py",
   "mimetype": "text/x-python",
   "name": "python",
   "nbconvert_exporter": "python",
   "pygments_lexer": "ipython3",
   "version": "3.12.4"
  }
 },
 "nbformat": 4,
 "nbformat_minor": 2
}
